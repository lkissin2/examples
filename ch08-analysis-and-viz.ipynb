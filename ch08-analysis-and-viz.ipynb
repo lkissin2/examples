{
 "cells": [
  {
   "cell_type": "markdown",
   "metadata": {},
   "source": [
    "# Analysis and Visualization\n",
    "\n",
    "Data analysis and visualization are essential to science. This chapter will teach you the best ways to perform data analysis and visualization on the computer, saving time and allowing for more publications.\n",
    "\n",
    "Scientists encounter many types of data. Once those data have been collected and prepared, they must be loaded into the computer."
   ]
  },
  {
   "cell_type": "markdown",
   "metadata": {},
   "source": [
    "## Loading Data\n",
    "\n",
    "There are numerous python packages for loading data into memory-accesible structures. These will be discussed in detail in chapter 11. Here, we will focus on four tools: NumPy, PyTables, Pandas, and Blaze. \n",
    "\n",
    "Numerous factors determine the right tool for data analysis. The most important factor is often the size of the data. "
   ]
  },
  {
   "cell_type": "markdown",
   "metadata": {},
   "source": [
    "### NumPy\n",
    "\n",
    "For small data that can be loaded into memory all at once, NumPy is often a good choice. We will begin our discussion there. NumPy arranges data into an array of numbers. NumPy arrays are very common and very powerful. \n",
    "\n",
    "Below is code that tabulates the results of a count of a decaying isotope. The left-hand column holds the independent variable, time, and the right hand column holds the dependent variable, the observed number of decays. The data are loaded by NumPy from a comma separated value file with the following code: "
   ]
  },
  {
   "cell_type": "code",
   "execution_count": 25,
   "metadata": {},
   "outputs": [
    {
     "data": {
      "text/plain": [
       "array([[0.00000000e+00, 1.00000000e+01],\n",
       "       [1.00000000e+00, 1.35335283e+00],\n",
       "       [2.00000000e+00, 1.83156389e-01],\n",
       "       [3.00000000e+00, 2.47875220e-02],\n",
       "       [4.00000000e+00, 3.35462600e-03],\n",
       "       [5.00000000e+00, 4.53999000e-04],\n",
       "       [6.00000000e+00, 6.14420000e-05],\n",
       "       [7.00000000e+00, 8.31500000e-06],\n",
       "       [8.00000000e+00, 1.12600000e-06],\n",
       "       [9.00000000e+00, 1.52000000e-07]])"
      ]
     },
     "execution_count": 25,
     "metadata": {},
     "output_type": "execute_result"
    }
   ],
   "source": [
    "import numpy as np  # Imports numpy with alias np\n",
    "decays_arr = np.loadtxt('data/decays.csv', delimiter=\",\", skiprows=1)  # Creates an object with the loadtxt() function\n",
    "decays_arr"
   ]
  },
  {
   "cell_type": "markdown",
   "metadata": {},
   "source": [
    "### Pandas\n",
    "\n",
    "Pandas is a very flexible tool that provides a good alternative to NumPy or PyTables in many cases. \n",
    "\n",
    "It is very easy to load data into pandas. Observe:"
   ]
  },
  {
   "cell_type": "code",
   "execution_count": 26,
   "metadata": {},
   "outputs": [
    {
     "data": {
      "text/html": [
       "<div>\n",
       "<style scoped>\n",
       "    .dataframe tbody tr th:only-of-type {\n",
       "        vertical-align: middle;\n",
       "    }\n",
       "\n",
       "    .dataframe tbody tr th {\n",
       "        vertical-align: top;\n",
       "    }\n",
       "\n",
       "    .dataframe thead th {\n",
       "        text-align: right;\n",
       "    }\n",
       "</style>\n",
       "<table border=\"1\" class=\"dataframe\">\n",
       "  <thead>\n",
       "    <tr style=\"text-align: right;\">\n",
       "      <th></th>\n",
       "      <th>Time (s)</th>\n",
       "      <th>Decays (#)</th>\n",
       "    </tr>\n",
       "  </thead>\n",
       "  <tbody>\n",
       "    <tr>\n",
       "      <th>0</th>\n",
       "      <td>0</td>\n",
       "      <td>1.000000e+01</td>\n",
       "    </tr>\n",
       "    <tr>\n",
       "      <th>1</th>\n",
       "      <td>1</td>\n",
       "      <td>1.353353e+00</td>\n",
       "    </tr>\n",
       "    <tr>\n",
       "      <th>2</th>\n",
       "      <td>2</td>\n",
       "      <td>1.831564e-01</td>\n",
       "    </tr>\n",
       "    <tr>\n",
       "      <th>3</th>\n",
       "      <td>3</td>\n",
       "      <td>2.478752e-02</td>\n",
       "    </tr>\n",
       "    <tr>\n",
       "      <th>4</th>\n",
       "      <td>4</td>\n",
       "      <td>3.354626e-03</td>\n",
       "    </tr>\n",
       "    <tr>\n",
       "      <th>5</th>\n",
       "      <td>5</td>\n",
       "      <td>4.539990e-04</td>\n",
       "    </tr>\n",
       "    <tr>\n",
       "      <th>6</th>\n",
       "      <td>6</td>\n",
       "      <td>6.144200e-05</td>\n",
       "    </tr>\n",
       "    <tr>\n",
       "      <th>7</th>\n",
       "      <td>7</td>\n",
       "      <td>8.315000e-06</td>\n",
       "    </tr>\n",
       "    <tr>\n",
       "      <th>8</th>\n",
       "      <td>8</td>\n",
       "      <td>1.126000e-06</td>\n",
       "    </tr>\n",
       "    <tr>\n",
       "      <th>9</th>\n",
       "      <td>9</td>\n",
       "      <td>1.520000e-07</td>\n",
       "    </tr>\n",
       "  </tbody>\n",
       "</table>\n",
       "</div>"
      ],
      "text/plain": [
       "   Time (s)    Decays (#)\n",
       "0         0  1.000000e+01\n",
       "1         1  1.353353e+00\n",
       "2         2  1.831564e-01\n",
       "3         3  2.478752e-02\n",
       "4         4  3.354626e-03\n",
       "5         5  4.539990e-04\n",
       "6         6  6.144200e-05\n",
       "7         7  8.315000e-06\n",
       "8         8  1.126000e-06\n",
       "9         9  1.520000e-07"
      ]
     },
     "execution_count": 26,
     "metadata": {},
     "output_type": "execute_result"
    }
   ],
   "source": [
    "import pandas as pd #  Import pandas in alias it as pd\n",
    "decays_df = pd.read_csv('data/decays.csv') #  Creates a data frame object to hold the data loaded by read_csv()\n",
    "decays_df"
   ]
  },
  {
   "cell_type": "markdown",
   "metadata": {},
   "source": [
    "We can also use pandas to change the format of data. This code will create to an hdf5 file called _decays.h5_ in a group node called _experimental_ if we ran it:"
   ]
  },
  {
   "cell_type": "code",
   "execution_count": 27,
   "metadata": {},
   "outputs": [],
   "source": [
    "# import pandas as pd\n",
    "# decays_df = pd.read_csv('data/decays.csv')\n",
    "\n",
    "# decays_df.to_hdf('decays.h5', 'experimental')"
   ]
  },
  {
   "cell_type": "markdown",
   "metadata": {},
   "source": [
    "### Blaze \n",
    "\n",
    "Blaze is another tool. Similar to Panda, it can easily convert data between different formats. However, blaze is still in active development, and not fully stable. Please be cautious if you decide to use blaze. The following code takes the CSV code and turns it into a data descriptor, which it then transforms ito Blaze Table"
   ]
  },
  {
   "cell_type": "code",
   "execution_count": 28,
   "metadata": {
    "scrolled": true
   },
   "outputs": [
    {
     "ename": "AttributeError",
     "evalue": "module 'pandas.core.computation' has no attribute 'expressions'",
     "output_type": "error",
     "traceback": [
      "\u001b[0;31m---------------------------------------------------------------------------\u001b[0m",
      "\u001b[0;31mAttributeError\u001b[0m                            Traceback (most recent call last)",
      "\u001b[0;32m<ipython-input-28-061614c02171>\u001b[0m in \u001b[0;36m<module>\u001b[0;34m()\u001b[0m\n\u001b[0;32m----> 1\u001b[0;31m \u001b[0;32mimport\u001b[0m \u001b[0mblaze\u001b[0m \u001b[0;32mas\u001b[0m \u001b[0mbz\u001b[0m \u001b[0;31m#  Imports blaze and aliases as bz\u001b[0m\u001b[0;34m\u001b[0m\u001b[0m\n\u001b[0m\u001b[1;32m      2\u001b[0m \u001b[0mcsv_data\u001b[0m \u001b[0;34m=\u001b[0m \u001b[0mbz\u001b[0m\u001b[0;34m.\u001b[0m\u001b[0mCSV\u001b[0m\u001b[0;34m(\u001b[0m\u001b[0;34m'data/decays.csv'\u001b[0m\u001b[0;34m)\u001b[0m \u001b[0;31m#  Uses the CSV() constructor to transform the csv into blaze data\u001b[0m\u001b[0;34m\u001b[0m\u001b[0m\n\u001b[1;32m      3\u001b[0m \u001b[0mdecays_tb\u001b[0m \u001b[0;34m=\u001b[0m \u001b[0mbz\u001b[0m\u001b[0;34m.\u001b[0m\u001b[0mTable\u001b[0m\u001b[0;34m(\u001b[0m\u001b[0mcsv_data\u001b[0m\u001b[0;34m)\u001b[0m \u001b[0;31m#  Transforms the data descripter csv_data into a blaze table\u001b[0m\u001b[0;34m\u001b[0m\u001b[0m\n",
      "\u001b[0;32m~/anaconda3/lib/python3.5/site-packages/blaze/__init__.py\u001b[0m in \u001b[0;36m<module>\u001b[0;34m()\u001b[0m\n\u001b[1;32m      7\u001b[0m \u001b[0;34m\u001b[0m\u001b[0m\n\u001b[1;32m      8\u001b[0m \u001b[0;32mfrom\u001b[0m \u001b[0mpandas\u001b[0m \u001b[0;32mimport\u001b[0m \u001b[0mDataFrame\u001b[0m\u001b[0;34m\u001b[0m\u001b[0m\n\u001b[0;32m----> 9\u001b[0;31m \u001b[0;32mfrom\u001b[0m \u001b[0modo\u001b[0m \u001b[0;32mimport\u001b[0m \u001b[0modo\u001b[0m\u001b[0;34m,\u001b[0m \u001b[0mconvert\u001b[0m\u001b[0;34m,\u001b[0m \u001b[0mappend\u001b[0m\u001b[0;34m,\u001b[0m \u001b[0mdrop\u001b[0m\u001b[0;34m,\u001b[0m \u001b[0mresource\u001b[0m\u001b[0;34m\u001b[0m\u001b[0m\n\u001b[0m\u001b[1;32m     10\u001b[0m \u001b[0;32mfrom\u001b[0m \u001b[0modo\u001b[0m\u001b[0;34m.\u001b[0m\u001b[0mbackends\u001b[0m\u001b[0;34m.\u001b[0m\u001b[0mcsv\u001b[0m \u001b[0;32mimport\u001b[0m \u001b[0mCSV\u001b[0m\u001b[0;34m\u001b[0m\u001b[0m\n\u001b[1;32m     11\u001b[0m \u001b[0;32mfrom\u001b[0m \u001b[0modo\u001b[0m\u001b[0;34m.\u001b[0m\u001b[0mbackends\u001b[0m\u001b[0;34m.\u001b[0m\u001b[0mjson\u001b[0m \u001b[0;32mimport\u001b[0m \u001b[0mJSON\u001b[0m\u001b[0;34m,\u001b[0m \u001b[0mJSONLines\u001b[0m\u001b[0;34m\u001b[0m\u001b[0m\n",
      "\u001b[0;32m~/anaconda3/lib/python3.5/site-packages/odo/__init__.py\u001b[0m in \u001b[0;36m<module>\u001b[0;34m()\u001b[0m\n\u001b[1;32m     63\u001b[0m     \u001b[0;32mfrom\u001b[0m \u001b[0;34m.\u001b[0m\u001b[0mbackends\u001b[0m\u001b[0;34m.\u001b[0m\u001b[0murl\u001b[0m \u001b[0;32mimport\u001b[0m \u001b[0mURL\u001b[0m\u001b[0;34m\u001b[0m\u001b[0m\n\u001b[1;32m     64\u001b[0m \u001b[0;32mwith\u001b[0m \u001b[0mignoring\u001b[0m\u001b[0;34m(\u001b[0m\u001b[0mImportError\u001b[0m\u001b[0;34m)\u001b[0m\u001b[0;34m:\u001b[0m\u001b[0;34m\u001b[0m\u001b[0m\n\u001b[0;32m---> 65\u001b[0;31m     \u001b[0;32mfrom\u001b[0m \u001b[0;34m.\u001b[0m\u001b[0mbackends\u001b[0m\u001b[0;34m.\u001b[0m\u001b[0mdask\u001b[0m \u001b[0;32mimport\u001b[0m \u001b[0mdask\u001b[0m\u001b[0;34m\u001b[0m\u001b[0m\n\u001b[0m\u001b[1;32m     66\u001b[0m \u001b[0;34m\u001b[0m\u001b[0m\n\u001b[1;32m     67\u001b[0m \u001b[0;34m\u001b[0m\u001b[0m\n",
      "\u001b[0;32m~/anaconda3/lib/python3.5/site-packages/odo/backends/dask.py\u001b[0m in \u001b[0;36m<module>\u001b[0;34m()\u001b[0m\n\u001b[1;32m     11\u001b[0m \u001b[0;32mimport\u001b[0m \u001b[0mdask\u001b[0m\u001b[0;34m.\u001b[0m\u001b[0mbag\u001b[0m \u001b[0;32mas\u001b[0m \u001b[0mdb\u001b[0m\u001b[0;34m\u001b[0m\u001b[0m\n\u001b[1;32m     12\u001b[0m \u001b[0;32mfrom\u001b[0m \u001b[0mdask\u001b[0m\u001b[0;34m.\u001b[0m\u001b[0mcompatibility\u001b[0m \u001b[0;32mimport\u001b[0m \u001b[0mlong\u001b[0m\u001b[0;34m\u001b[0m\u001b[0m\n\u001b[0;32m---> 13\u001b[0;31m \u001b[0;32mimport\u001b[0m \u001b[0mdask\u001b[0m\u001b[0;34m.\u001b[0m\u001b[0mdataframe\u001b[0m \u001b[0;32mas\u001b[0m \u001b[0mdd\u001b[0m\u001b[0;34m\u001b[0m\u001b[0m\n\u001b[0m\u001b[1;32m     14\u001b[0m \u001b[0;34m\u001b[0m\u001b[0m\n\u001b[1;32m     15\u001b[0m \u001b[0;32mfrom\u001b[0m \u001b[0modo\u001b[0m \u001b[0;32mimport\u001b[0m \u001b[0mappend\u001b[0m\u001b[0;34m,\u001b[0m \u001b[0mchunks\u001b[0m\u001b[0;34m,\u001b[0m \u001b[0mconvert\u001b[0m\u001b[0;34m,\u001b[0m \u001b[0mdiscover\u001b[0m\u001b[0;34m,\u001b[0m \u001b[0mTextFile\u001b[0m\u001b[0;34m\u001b[0m\u001b[0m\n",
      "\u001b[0;32m~/anaconda3/lib/python3.5/site-packages/dask/dataframe/__init__.py\u001b[0m in \u001b[0;36m<module>\u001b[0;34m()\u001b[0m\n\u001b[1;32m      1\u001b[0m \u001b[0;32mfrom\u001b[0m \u001b[0m__future__\u001b[0m \u001b[0;32mimport\u001b[0m \u001b[0mprint_function\u001b[0m\u001b[0;34m,\u001b[0m \u001b[0mdivision\u001b[0m\u001b[0;34m,\u001b[0m \u001b[0mabsolute_import\u001b[0m\u001b[0;34m\u001b[0m\u001b[0m\n\u001b[1;32m      2\u001b[0m \u001b[0;34m\u001b[0m\u001b[0m\n\u001b[0;32m----> 3\u001b[0;31m from .core import (DataFrame, Series, Index, _Frame, map_partitions,\n\u001b[0m\u001b[1;32m      4\u001b[0m                    repartition, to_delayed, to_datetime)\n\u001b[1;32m      5\u001b[0m from .io import (from_array, from_pandas, from_bcolz,\n",
      "\u001b[0;32m~/anaconda3/lib/python3.5/site-packages/dask/dataframe/core.py\u001b[0m in \u001b[0;36m<module>\u001b[0;34m()\u001b[0m\n\u001b[1;32m     38\u001b[0m \u001b[0;32mif\u001b[0m \u001b[0mPANDAS_VERSION\u001b[0m \u001b[0;34m>=\u001b[0m \u001b[0;34m'0.20.0'\u001b[0m\u001b[0;34m:\u001b[0m\u001b[0;34m\u001b[0m\u001b[0m\n\u001b[1;32m     39\u001b[0m     \u001b[0;32mfrom\u001b[0m \u001b[0mpandas\u001b[0m\u001b[0;34m.\u001b[0m\u001b[0mutil\u001b[0m \u001b[0;32mimport\u001b[0m \u001b[0mcache_readonly\u001b[0m\u001b[0;34m\u001b[0m\u001b[0m\n\u001b[0;32m---> 40\u001b[0;31m     \u001b[0mpd\u001b[0m\u001b[0;34m.\u001b[0m\u001b[0mcore\u001b[0m\u001b[0;34m.\u001b[0m\u001b[0mcomputation\u001b[0m\u001b[0;34m.\u001b[0m\u001b[0mexpressions\u001b[0m\u001b[0;34m.\u001b[0m\u001b[0mset_use_numexpr\u001b[0m\u001b[0;34m(\u001b[0m\u001b[0;32mFalse\u001b[0m\u001b[0;34m)\u001b[0m\u001b[0;34m\u001b[0m\u001b[0m\n\u001b[0m\u001b[1;32m     41\u001b[0m \u001b[0;32melse\u001b[0m\u001b[0;34m:\u001b[0m\u001b[0;34m\u001b[0m\u001b[0m\n\u001b[1;32m     42\u001b[0m     \u001b[0;32mfrom\u001b[0m \u001b[0mpandas\u001b[0m\u001b[0;34m.\u001b[0m\u001b[0mutil\u001b[0m\u001b[0;34m.\u001b[0m\u001b[0mdecorators\u001b[0m \u001b[0;32mimport\u001b[0m \u001b[0mcache_readonly\u001b[0m\u001b[0;34m\u001b[0m\u001b[0m\n",
      "\u001b[0;31mAttributeError\u001b[0m: module 'pandas.core.computation' has no attribute 'expressions'"
     ]
    }
   ],
   "source": [
    "import blaze as bz #  Imports blaze and aliases as bz\n",
    "csv_data = bz.CSV('data/decays.csv') #  Uses the CSV() constructor to transform the csv into blaze data\n",
    "decays_tb = bz.Table(csv_data) #  Transforms the data descripter csv_data into a blaze table"
   ]
  },
  {
   "cell_type": "markdown",
   "metadata": {},
   "source": [
    "## Cleaning and Munging Data\n",
    "\n",
    "Data munging refers to many things, but broadly means dealing with data. Typically, munging means converting data from its raw form to a well-structued format that can be used for plotting. \n",
    "\n",
    "Suppose you performed an experiment counting the decay rate of a radioative source. However, a few things went wrong with the experiment and you cannot repeat the experiment due to time or financial constraints. In particular, let's imagine that during the measurement, a colleague walked through the laboratory with a stronger, more stable source so that many of the measurements are biased by this strong source. Additionally, the lab lost power for a few seconds towards the end of the measurement, so some measurements are nonexistant. \n",
    "\n",
    "First let's use Panda to remove the rows from our table with missing data:"
   ]
  },
  {
   "cell_type": "code",
   "execution_count": null,
   "metadata": {},
   "outputs": [],
   "source": [
    "decay_df = pd.read_csv(\"data/many_decays.csv\")\n",
    "decay_df.count() #  The count() method ignores the NaN values"
   ]
  },
  {
   "cell_type": "code",
   "execution_count": null,
   "metadata": {},
   "outputs": [],
   "source": [
    "decay_df.dropna() #  The dropna() method returns the dataframe without the NaN values"
   ]
  },
  {
   "cell_type": "markdown",
   "metadata": {},
   "source": [
    "### Visualisation \n",
    "\n",
    "Now that the data are a bit cleaner, let's plot them.\n",
    "\n",
    "#### MatPlotLib\n",
    "\n",
    "Matplotlib is an amazing plotting tool for scientific computing. The following python script will create a plot of the decay data:"
   ]
  },
  {
   "cell_type": "code",
   "execution_count": null,
   "metadata": {},
   "outputs": [],
   "source": [
    "import numpy as np  # Imports and aliases NumPy\n",
    "\n",
    "# as in the previous example, load decays.csv into a NumPy array\n",
    "decaydata = np.loadtxt('data/decays.csv', delimiter=\",\", skiprows=1)\n",
    "\n",
    "# provide handles for the x and y columns\n",
    "time = decaydata[:,0]\n",
    "decays = decaydata[:,1]\n",
    "\n",
    "# import the matplotlib plotting functionality\n",
    "import matplotlib\n",
    "%matplotlib inline\n",
    "import pylab as plt\n",
    "\n",
    "plt.plot(time, decays)  # Generates a plot of decays vs time\n",
    "\n",
    "plt.xlabel('Time (s)')\n",
    "plt.ylabel('Decays')\n",
    "plt.title('Decays')\n",
    "plt.grid(True)  # Adds gridlines\n",
    "#plt.savefig(\"decays_matplotlib.png\")  # saves the figure as a png"
   ]
  },
  {
   "cell_type": "markdown",
   "metadata": {},
   "source": [
    "Here is an example of a rather long script to make a nice flyer for a talk about MatPlotLib:"
   ]
  },
  {
   "cell_type": "code",
   "execution_count": null,
   "metadata": {},
   "outputs": [],
   "source": [
    "# Import various necessary Python and matplotlib packages\n",
    "import numpy as np\n",
    "import matplotlib.cm as cm  # Imports the colormaps library\n",
    "from matplotlib.pyplot import figure, show, rc  # Imports other useful libraries\n",
    "from matplotlib.patches import Ellipse  # We need the ellipse shape for our text boxes\n",
    "\n",
    "# Create a square figure on which to place the plot\n",
    "fig = figure(figsize=(8,8))\n",
    "\n",
    "# Create square axes to hold the circular polar plot\n",
    "ax = fig.add_axes([0.1, 0.1, 0.8, 0.8], polar=True)\n",
    "\n",
    "# Generate 20 colored, angular wedges for the polar plot\n",
    "N = 20\n",
    "theta = np.arange(0.0, 2*np.pi, 2*np.pi/N)\n",
    "radii = 10*np.random.rand(N)\n",
    "width = np.pi/4*np.random.rand(N)\n",
    "bars = ax.bar(theta, radii, width=width, bottom=0.0)\n",
    "for r,bar in zip(radii, bars):\n",
    "    bar.set_facecolor(cm.jet(r/10.))\n",
    "    bar.set_alpha(0.5)\n",
    "\n",
    "# Using dictionaries, create a color scheme for the text boxes\n",
    "bbox_args = dict(boxstyle=\"round, pad=0.9\", fc=\"green\", alpha=0.5)\n",
    "bbox_white = dict(boxstyle=\"round, pad=0.9\", fc=\"1\", alpha=0.9)\n",
    "patch_white = dict(boxstyle=\"round, pad=1\", fc=\"1\", ec=\"1\")\n",
    "\n",
    "# Create various boxes with text annotations in them at specific\n",
    "# x and y coordinates\n",
    "ax.annotate(\" \",\n",
    "    xy=(.5,.93),  # Places an annotation box at the desired x amd y coordinates \n",
    "    xycoords='figure fraction',  # Tells python to read those annotations as fractions of figure height and width\n",
    "    ha=\"center\", va=\"center\",  # Aligns the text to the center of the box\n",
    "    bbox=patch_white)  # Makes the box white\n",
    "\n",
    "ax.annotate('Matplotlib and the Python Ecosystem for Scientific Computing',\n",
    "    xy=(.5,.95),\n",
    "    xycoords='figure fraction',\n",
    "    xytext=(0, 0), textcoords='offset points',\n",
    "    size=15,\n",
    "    ha=\"center\", va=\"center\",\n",
    "    bbox=bbox_args)\n",
    "\n",
    "ax.annotate('Author and Lead Developer \\n of Matplotlib ',\n",
    "    xy=(.5,.82),\n",
    "    xycoords='figure fraction',\n",
    "    xytext=(0, 0), textcoords='offset points',\n",
    "    ha=\"center\", va=\"center\",\n",
    "    bbox=bbox_args)\n",
    "\n",
    "ax.annotate('John D. Hunter',\n",
    "    xy=(.5,.89),\n",
    "    xycoords='figure fraction',\n",
    "    xytext=(0, 0), textcoords='offset points',\n",
    "    size=15,\n",
    "    ha=\"center\", va=\"center\",\n",
    "    bbox=bbox_white)\n",
    "\n",
    "ax.annotate('Friday November 5th  \\n 2:00 pm \\n1106ME ',\n",
    "    xy=(.5,.25),\n",
    "    xycoords='figure fraction',\n",
    "    xytext=(0, 0), textcoords='offset points',\n",
    "    size=15,\n",
    "    ha=\"center\", va=\"center\",\n",
    "    bbox=bbox_args)\n",
    "\n",
    "ax.annotate('Sponsored by: \\n The Hacker Within, \\n'\n",
    "    'The University Lectures Committee, \\n The Department of '\n",
    "    'Medical Physics\\n and \\n The American Nuclear Society',\n",
    "    xy=(.78,.1),\n",
    "    xycoords='figure fraction',\n",
    "    xytext=(0, 0), textcoords='offset points',\n",
    "    size=9,\n",
    "    ha=\"center\", va=\"center\",\n",
    "    bbox=bbox_args)\n",
    "\n",
    "#fig.savefig(\"plot.pdf\")"
   ]
  },
  {
   "cell_type": "markdown",
   "metadata": {},
   "source": [
    "Further cool examples of plots made with MatPlotLib may be found at the MatPlotLib gallery"
   ]
  },
  {
   "cell_type": "markdown",
   "metadata": {},
   "source": [
    "#### Bokeh\n",
    "\n",
    "Bokeh is another plotting tool that is quite similar to MatPlotLib, but specialized for generating interactive plots for the internet. The following script makes an html file holding the plot of the decay data:"
   ]
  },
  {
   "cell_type": "code",
   "execution_count": null,
   "metadata": {},
   "outputs": [],
   "source": [
    "import numpy as np\n",
    "# import the Bokeh plotting tools\n",
    "from bokeh import plotting as bp\n",
    "\n",
    "# as in the matplotlib example, load decays.csv into a NumPy array\n",
    "decaydata = np.loadtxt('data/decays.csv',delimiter=\",\",skiprows=1)\n",
    "\n",
    "# provide handles for the x and y columns\n",
    "time = decaydata[:,0]\n",
    "decays = decaydata[:,1]\n",
    "\n",
    "# define some output file metadata\n",
    "bp.output_file(\"decays.html\", title=\"Experiment 1 Radioactivity\")\n",
    "\n",
    "# create a figure with fun Internet-friendly features (optional)\n",
    "bp.figure(tools=\"pan,wheel_zoom,box_zoom,reset,previewsave\")\n",
    "\n",
    "# on that figure, create a line plot\n",
    "bp.figure().line(time, decays, x_axis_label=\"Time (s)\", y_axis_label=\"Decays (#)\",\n",
    "     color='#1F78B4', legend='Decays per second')\n",
    "\n",
    "# additional customization to the figure can be specified separately\n",
    "bp.curplot().title = \"Decays\"\n",
    "bp.grid().grid_line_alpha=0.3\n",
    "\n",
    "# open a browser\n",
    "bp.show()"
   ]
  }
 ],
 "metadata": {
  "kernelspec": {
   "display_name": "Python 3",
   "language": "python",
   "name": "python3"
  },
  "language_info": {
   "codemirror_mode": {
    "name": "ipython",
    "version": 3
   },
   "file_extension": ".py",
   "mimetype": "text/x-python",
   "name": "python",
   "nbconvert_exporter": "python",
   "pygments_lexer": "ipython3",
   "version": "3.5.6"
  }
 },
 "nbformat": 4,
 "nbformat_minor": 1
}
