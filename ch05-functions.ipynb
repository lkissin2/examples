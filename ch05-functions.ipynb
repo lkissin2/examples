{
 "cells": [
  {
   "cell_type": "markdown",
   "metadata": {},
   "source": [
    "# Functions"
   ]
  },
  {
   "cell_type": "markdown",
   "metadata": {},
   "source": [
    "This chapter will serve as the introduction to functions, the most basic form of code reuse in python. Functions in this context are very similar to functions in the mathematical context"
   ]
  },
  {
   "cell_type": "markdown",
   "metadata": {},
   "source": [
    "## Functions in python"
   ]
  },
  {
   "cell_type": "markdown",
   "metadata": {},
   "source": [
    "Let's start by learning to define a function. The syntax is similar to the control statements explored in the previous chapter. A function has a name and a body. Optionally, it may have arguments and/or variables to return. The general syntax is below, followed by some simple examples"
   ]
  },
  {
   "cell_type": "markdown",
   "metadata": {},
   "source": [
    "    def <name>([arguments]):\n",
    "        <body>\n",
    "        [return]"
   ]
  },
  {
   "cell_type": "markdown",
   "metadata": {},
   "source": [
    "Here is a function that creates a string and assigns it to a variable:"
   ]
  },
  {
   "cell_type": "code",
   "execution_count": 57,
   "metadata": {},
   "outputs": [],
   "source": [
    "def sagan():\n",
    "    quote = \"With insufficient data it is easy to go wrong.\""
   ]
  },
  {
   "cell_type": "markdown",
   "metadata": {},
   "source": [
    "Here is a function that does nothing:"
   ]
  },
  {
   "cell_type": "code",
   "execution_count": 54,
   "metadata": {},
   "outputs": [],
   "source": [
    "def null():\n",
    "    pass"
   ]
  },
  {
   "cell_type": "markdown",
   "metadata": {},
   "source": [
    "The next couple of cells create and play with a function that takes no arguments and returns an integer."
   ]
  },
  {
   "cell_type": "code",
   "execution_count": 58,
   "metadata": {},
   "outputs": [],
   "source": [
    "# define the function\n",
    "def forty_two():\n",
    "    return 42"
   ]
  },
  {
   "cell_type": "code",
   "execution_count": 59,
   "metadata": {},
   "outputs": [
    {
     "data": {
      "text/plain": [
       "42"
      ]
     },
     "execution_count": 59,
     "metadata": {},
     "output_type": "execute_result"
    }
   ],
   "source": [
    "# call the function\n",
    "forty_two()"
   ]
  },
  {
   "cell_type": "code",
   "execution_count": 60,
   "metadata": {},
   "outputs": [
    {
     "name": "stdout",
     "output_type": "stream",
     "text": [
      "42\n"
     ]
    }
   ],
   "source": [
    "# call the function, and print the result\n",
    "print(forty_two())"
   ]
  },
  {
   "cell_type": "code",
   "execution_count": 62,
   "metadata": {},
   "outputs": [
    {
     "name": "stdout",
     "output_type": "stream",
     "text": [
      "42\n"
     ]
    }
   ],
   "source": [
    "# call the function, assign the result \n",
    "# to x, and print x\n",
    "x = forty_two()\n",
    "print(x)"
   ]
  },
  {
   "cell_type": "markdown",
   "metadata": {},
   "source": [
    "This function has an argument x. Its behavior depends on the value of x:"
   ]
  },
  {
   "cell_type": "code",
   "execution_count": 63,
   "metadata": {},
   "outputs": [],
   "source": [
    "def forty_two_or_bust(x):\n",
    "    if x:\n",
    "        print(42)\n",
    "    else:\n",
    "        print(0)"
   ]
  },
  {
   "cell_type": "code",
   "execution_count": 64,
   "metadata": {},
   "outputs": [
    {
     "name": "stdout",
     "output_type": "stream",
     "text": [
      "42\n"
     ]
    }
   ],
   "source": [
    "# call the function\n",
    "forty_two_or_bust(True)"
   ]
  },
  {
   "cell_type": "code",
   "execution_count": 66,
   "metadata": {},
   "outputs": [
    {
     "name": "stdout",
     "output_type": "stream",
     "text": [
      "0\n"
     ]
    }
   ],
   "source": [
    "bust = False\n",
    "forty_two_or_bust(bust)"
   ]
  },
  {
   "cell_type": "markdown",
   "metadata": {},
   "source": [
    "This function has two arguments, base and x. It returns base to the power of x."
   ]
  },
  {
   "cell_type": "code",
   "execution_count": 70,
   "metadata": {},
   "outputs": [
    {
     "name": "stdout",
     "output_type": "stream",
     "text": [
      "25\n",
      "32\n"
     ]
    }
   ],
   "source": [
    "def power(base, x):\n",
    "    return base**x\n",
    "print(power(5, 2))\n",
    "print(power(2, 5))"
   ]
  },
  {
   "cell_type": "markdown",
   "metadata": {},
   "source": [
    "This function should should remind you of an exercise from the previous chapter. It also calls a function inside of itself. Nesting functions is very powerful."
   ]
  },
  {
   "cell_type": "code",
   "execution_count": 73,
   "metadata": {},
   "outputs": [
    {
     "name": "stdout",
     "output_type": "stream",
     "text": [
      "0.0\n",
      "0.31296179620778664\n"
     ]
    }
   ],
   "source": [
    "from math import sin # Review chapter 2 if you are confused about importing modules\n",
    "from math import pi\n",
    "\n",
    "def sin_inv_x(x):\n",
    "    if x == 0.0:\n",
    "        result = 0.0\n",
    "    else:\n",
    "        result = sin(1.0/x)\n",
    "    return result\n",
    "\n",
    "print(sin_inv_x(0))\n",
    "print(sin_inv_x(pi))"
   ]
  },
  {
   "cell_type": "markdown",
   "metadata": {},
   "source": [
    "This function has got documentation on it. The docstring is inside triple double quotes and it is the first string literal in the function."
   ]
  },
  {
   "cell_type": "code",
   "execution_count": 76,
   "metadata": {},
   "outputs": [],
   "source": [
    "def power(base, x):\n",
    "    \"\"\"Computes base^x. Both base and x should be integers,\n",
    "    floats, or another numeric type.\n",
    "    \"\"\"\n",
    "    return base**x\n",
    "\n",
    "#uncomment the next line to view the docstring for the power function\n",
    "# ?power"
   ]
  },
  {
   "cell_type": "markdown",
   "metadata": {},
   "source": [
    "## Keyword arguments"
   ]
  },
  {
   "cell_type": "markdown",
   "metadata": {},
   "source": [
    "Keyword arguments allow a programmer to assign a default value to a function that may be changed. Keywrod arguments provide three main advantages. They redyce the amount of information that must be explicitly passed to a function, they may be called in any order, and help define the kinds of values that may be passed to the function. "
   ]
  },
  {
   "cell_type": "markdown",
   "metadata": {},
   "source": [
    "We've got a few examples of functions with keyword arguments in the following cells."
   ]
  },
  {
   "cell_type": "code",
   "execution_count": 78,
   "metadata": {},
   "outputs": [],
   "source": [
    "def line(x, a=1.0, b=0.0):\n",
    "    return a*x + b"
   ]
  },
  {
   "cell_type": "code",
   "execution_count": 79,
   "metadata": {},
   "outputs": [
    {
     "data": {
      "text/plain": [
       "42.0"
      ]
     },
     "execution_count": 79,
     "metadata": {},
     "output_type": "execute_result"
    }
   ],
   "source": [
    "line(42)            # no keyword args, returns 1*42 + 0"
   ]
  },
  {
   "cell_type": "code",
   "execution_count": 80,
   "metadata": {},
   "outputs": [
    {
     "data": {
      "text/plain": [
       "84.0"
      ]
     },
     "execution_count": 80,
     "metadata": {},
     "output_type": "execute_result"
    }
   ],
   "source": [
    "line(42, 2)         # a=2, returns 84"
   ]
  },
  {
   "cell_type": "code",
   "execution_count": 81,
   "metadata": {},
   "outputs": [
    {
     "data": {
      "text/plain": [
       "52.0"
      ]
     },
     "execution_count": 81,
     "metadata": {},
     "output_type": "execute_result"
    }
   ],
   "source": [
    "line(42, b=10)      # b=10, returns 52"
   ]
  },
  {
   "cell_type": "code",
   "execution_count": 82,
   "metadata": {},
   "outputs": [
    {
     "data": {
      "text/plain": [
       "94"
      ]
     },
     "execution_count": 82,
     "metadata": {},
     "output_type": "execute_result"
    }
   ],
   "source": [
    "line(42, b=10, a=2) # returns 94 "
   ]
  },
  {
   "cell_type": "code",
   "execution_count": 88,
   "metadata": {},
   "outputs": [
    {
     "data": {
      "text/plain": [
       "94"
      ]
     },
     "execution_count": 88,
     "metadata": {},
     "output_type": "execute_result"
    }
   ],
   "source": [
    "line(42, a=2, b=10) # also returns 94 "
   ]
  },
  {
   "cell_type": "markdown",
   "metadata": {},
   "source": [
    "Mutable objects like lists do not make good keyword arguments. Because they are mutable, they retain their state from one call to the next, producing hard-to-find bugs."
   ]
  },
  {
   "cell_type": "code",
   "execution_count": 89,
   "metadata": {},
   "outputs": [],
   "source": [
    "# Do not do this!\n",
    "def myappend(x, lyst=[]):\n",
    "    lyst.append(x)\n",
    "    return lyst"
   ]
  },
  {
   "cell_type": "code",
   "execution_count": 90,
   "metadata": {},
   "outputs": [
    {
     "data": {
      "text/plain": [
       "[6]"
      ]
     },
     "execution_count": 90,
     "metadata": {},
     "output_type": "execute_result"
    }
   ],
   "source": [
    "myappend(6)  # seems right"
   ]
  },
  {
   "cell_type": "code",
   "execution_count": 91,
   "metadata": {},
   "outputs": [
    {
     "data": {
      "text/plain": [
       "[6, 42]"
      ]
     },
     "execution_count": 91,
     "metadata": {},
     "output_type": "execute_result"
    }
   ],
   "source": [
    "myappend(42) # hmmm..."
   ]
  },
  {
   "cell_type": "code",
   "execution_count": 92,
   "metadata": {},
   "outputs": [
    {
     "data": {
      "text/plain": [
       "[1, 16, 12]"
      ]
     },
     "execution_count": 92,
     "metadata": {},
     "output_type": "execute_result"
    }
   ],
   "source": [
    "myappend(12, [1, 16])"
   ]
  },
  {
   "cell_type": "code",
   "execution_count": 94,
   "metadata": {},
   "outputs": [
    {
     "data": {
      "text/plain": [
       "[6, 42, 65, 65]"
      ]
     },
     "execution_count": 94,
     "metadata": {},
     "output_type": "execute_result"
    }
   ],
   "source": [
    "myappend(65) # nope, not right!"
   ]
  },
  {
   "cell_type": "markdown",
   "metadata": {},
   "source": [
    "Here is a safer way of writing the preceding function:"
   ]
  },
  {
   "cell_type": "code",
   "execution_count": 95,
   "metadata": {},
   "outputs": [],
   "source": [
    "def myappend(x, lyst=None):\n",
    "    if lyst is None:\n",
    "        lyst = []\n",
    "    lyst.append(x)\n",
    "    return lyst"
   ]
  },
  {
   "cell_type": "code",
   "execution_count": 96,
   "metadata": {},
   "outputs": [
    {
     "data": {
      "text/plain": [
       "[6]"
      ]
     },
     "execution_count": 96,
     "metadata": {},
     "output_type": "execute_result"
    }
   ],
   "source": [
    "myappend(6)  "
   ]
  },
  {
   "cell_type": "code",
   "execution_count": 97,
   "metadata": {},
   "outputs": [
    {
     "data": {
      "text/plain": [
       "[42]"
      ]
     },
     "execution_count": 97,
     "metadata": {},
     "output_type": "execute_result"
    }
   ],
   "source": [
    "myappend(42)"
   ]
  },
  {
   "cell_type": "code",
   "execution_count": 98,
   "metadata": {},
   "outputs": [
    {
     "data": {
      "text/plain": [
       "[1, 16, 12]"
      ]
     },
     "execution_count": 98,
     "metadata": {},
     "output_type": "execute_result"
    }
   ],
   "source": [
    "myappend(12, [1, 16])"
   ]
  },
  {
   "cell_type": "code",
   "execution_count": 100,
   "metadata": {},
   "outputs": [
    {
     "data": {
      "text/plain": [
       "[65]"
      ]
     },
     "execution_count": 100,
     "metadata": {},
     "output_type": "execute_result"
    }
   ],
   "source": [
    "myappend(65)"
   ]
  },
  {
   "cell_type": "markdown",
   "metadata": {},
   "source": [
    "## Variable number of arguments"
   ]
  },
  {
   "cell_type": "markdown",
   "metadata": {},
   "source": [
    "Some functions can take a variable number of arguments. One function that makes good use of this property is the the max() function, which returns the largest numberical argument supplied to it. If max() had to take a fixed number of arguments, we'd have to store all of its data into a byzantine data structure before use."
   ]
  },
  {
   "cell_type": "code",
   "execution_count": 101,
   "metadata": {},
   "outputs": [
    {
     "data": {
      "text/plain": [
       "6"
      ]
     },
     "execution_count": 101,
     "metadata": {},
     "output_type": "execute_result"
    }
   ],
   "source": [
    "max(6, 2)"
   ]
  },
  {
   "cell_type": "code",
   "execution_count": 102,
   "metadata": {},
   "outputs": [
    {
     "data": {
      "text/plain": [
       "42"
      ]
     },
     "execution_count": 102,
     "metadata": {},
     "output_type": "execute_result"
    }
   ],
   "source": [
    "max(6, 42)"
   ]
  },
  {
   "cell_type": "code",
   "execution_count": 103,
   "metadata": {},
   "outputs": [
    {
     "data": {
      "text/plain": [
       "16"
      ]
     },
     "execution_count": 103,
     "metadata": {},
     "output_type": "execute_result"
    }
   ],
   "source": [
    "max(1, 16, 12)"
   ]
  },
  {
   "cell_type": "code",
   "execution_count": 104,
   "metadata": {},
   "outputs": [
    {
     "data": {
      "text/plain": [
       "65"
      ]
     },
     "execution_count": 104,
     "metadata": {},
     "output_type": "execute_result"
    }
   ],
   "source": [
    "max(65, 42, 2, 8)"
   ]
  },
  {
   "cell_type": "markdown",
   "metadata": {},
   "source": [
    "The following example teaches us how to write a function that takes a variable number of arguments. We put a start in front of an argument. Anything that is supplied as an argument is then packed into a tuple, which can be unpacked in the function."
   ]
  },
  {
   "cell_type": "code",
   "execution_count": 108,
   "metadata": {},
   "outputs": [],
   "source": [
    "def minimum(*args):\n",
    "    \"\"\"Takes any number of arguments!\"\"\"\n",
    "    m = args[0]\n",
    "    for x in args[1:]:\n",
    "        if x < m:\n",
    "          m = x\n",
    "    return m "
   ]
  },
  {
   "cell_type": "code",
   "execution_count": 109,
   "metadata": {},
   "outputs": [
    {
     "data": {
      "text/plain": [
       "6"
      ]
     },
     "execution_count": 109,
     "metadata": {},
     "output_type": "execute_result"
    }
   ],
   "source": [
    "minimum(6, 42)"
   ]
  },
  {
   "cell_type": "code",
   "execution_count": 110,
   "metadata": {},
   "outputs": [
    {
     "data": {
      "text/plain": [
       "2"
      ]
     },
     "execution_count": 110,
     "metadata": {},
     "output_type": "execute_result"
    }
   ],
   "source": [
    "data = [65, 42, 2, 8]\n",
    "minimum(*data)"
   ]
  },
  {
   "cell_type": "markdown",
   "metadata": {},
   "source": [
    "Writing our functions this way allows us to separate data preparation from data processing. This is very exciting!"
   ]
  },
  {
   "cell_type": "markdown",
   "metadata": {},
   "source": [
    "We may want to make a function that takes a variable number of keyword arguments. This is different from passing a variable number of positional arguments in two ways. The first is that we use double stars to indicate the keyword arguments, the second is that the keyword arguments are packed into  a dictionary."
   ]
  },
  {
   "cell_type": "code",
   "execution_count": 111,
   "metadata": {},
   "outputs": [],
   "source": [
    "def blender(*args, **kwargs):\n",
    "    \"\"\"Will it?\"\"\"\n",
    "    print(args, kwargs)"
   ]
  },
  {
   "cell_type": "code",
   "execution_count": 37,
   "metadata": {},
   "outputs": [
    {
     "name": "stdout",
     "output_type": "stream",
     "text": [
      "('yes', 42) {}\n"
     ]
    }
   ],
   "source": [
    "blender(\"yes\", 42)"
   ]
  },
  {
   "cell_type": "code",
   "execution_count": 38,
   "metadata": {},
   "outputs": [
    {
     "name": "stdout",
     "output_type": "stream",
     "text": [
      "() {'x': 42, 'z': 6}\n"
     ]
    }
   ],
   "source": [
    "blender(z=6, x=42)"
   ]
  },
  {
   "cell_type": "code",
   "execution_count": 39,
   "metadata": {},
   "outputs": [
    {
     "name": "stdout",
     "output_type": "stream",
     "text": [
      "('no', [1], 'yes') {'x': 42, 'z': 6}\n"
     ]
    }
   ],
   "source": [
    "blender(\"no\", [1], \"yes\", z=6, x=42)"
   ]
  },
  {
   "cell_type": "code",
   "execution_count": 114,
   "metadata": {},
   "outputs": [
    {
     "name": "stdout",
     "output_type": "stream",
     "text": [
      "('yes', 'no') {'kid': 'covalent', 'mom': 'ionic'}\n"
     ]
    }
   ],
   "source": [
    "t = (\"no\",)\n",
    "d = {\"mom\": \"ionic\"}\n",
    "blender(\"yes\", kid=\"covalent\", *t, **d)"
   ]
  },
  {
   "cell_type": "markdown",
   "metadata": {},
   "source": [
    "## Multiple return values"
   ]
  },
  {
   "cell_type": "markdown",
   "metadata": {},
   "source": [
    "Python also lets us return multiple values from one function. All of the returned values will be stored into a tuple. Please note that we write\n",
    "\n",
    "    return val1, val2 ... \n",
    "    \n",
    "On the same line because python will stop executing a function after the first return."
   ]
  },
  {
   "cell_type": "code",
   "execution_count": 115,
   "metadata": {},
   "outputs": [],
   "source": [
    "def momentum_energy(m, v):\n",
    "    p = m * v\n",
    "    e = 0.5 * m * v**2\n",
    "    return p, e"
   ]
  },
  {
   "cell_type": "code",
   "execution_count": 116,
   "metadata": {},
   "outputs": [
    {
     "name": "stdout",
     "output_type": "stream",
     "text": [
      "(2730.0, 88725.0)\n"
     ]
    }
   ],
   "source": [
    "# returns a tuple\n",
    "p_e = momentum_energy(42.0, 65.0)\n",
    "print(p_e)"
   ]
  },
  {
   "cell_type": "code",
   "execution_count": 119,
   "metadata": {},
   "outputs": [
    {
     "name": "stdout",
     "output_type": "stream",
     "text": [
      "2730.0\n"
     ]
    }
   ],
   "source": [
    "# unpacks the tuple\n",
    "mom, eng = momentum_energy(42.0, 65.0)\n",
    "print(mom)"
   ]
  },
  {
   "cell_type": "markdown",
   "metadata": {},
   "source": [
    "## Scope"
   ]
  },
  {
   "cell_type": "markdown",
   "metadata": {},
   "source": [
    "All variables have \"scope\" relative to any given function. Variables that are defined inside a function have scope that is \"local\" to that function. Local variables have lifetimes that end when their function finishes executing. Those variables that are defined outside of any function have \"global\" or \"module\" scope. \n",
    "\n",
    "A variable is said to be \"out of scope\" when it cannot be accessed because it exists in another function."
   ]
  },
  {
   "cell_type": "code",
   "execution_count": 122,
   "metadata": {},
   "outputs": [],
   "source": [
    "# global scope\n",
    "a = 6\n",
    "b = 42\n",
    "\n",
    "def func(x, y):\n",
    "    # local scope\n",
    "    z = 16\n",
    "    return a*x + b*y + z\n",
    "\n",
    "# global scope\n",
    "c = func(1, 5)"
   ]
  },
  {
   "cell_type": "code",
   "execution_count": 123,
   "metadata": {},
   "outputs": [],
   "source": [
    "# global scope\n",
    "a = 6\n",
    "b = 42\n",
    "\n",
    "def outer(m, n):\n",
    "    # outer's scope\n",
    "    p = 10 \n",
    "\n",
    "    def inner(x, y):\n",
    "        # inner's scope\n",
    "        return a*p*x + b*n*y\n",
    "\n",
    "    # outer's scope\n",
    "    return inner(m+1, n+1)\n",
    "\n",
    "# global scope\n",
    "c = outer(1, 5)"
   ]
  },
  {
   "cell_type": "code",
   "execution_count": 46,
   "metadata": {},
   "outputs": [
    {
     "name": "stdout",
     "output_type": "stream",
     "text": [
      "6\n",
      "42\n",
      "6\n"
     ]
    }
   ],
   "source": [
    "a = 6\n",
    "\n",
    "def a_global():\n",
    "    print(a)\n",
    "\n",
    "def a_local():\n",
    "    a = 42\n",
    "    print(a)\n",
    "\n",
    "a_global()\n",
    "a_local()\n",
    "print(a)"
   ]
  },
  {
   "cell_type": "code",
   "execution_count": 47,
   "metadata": {},
   "outputs": [
    {
     "ename": "UnboundLocalError",
     "evalue": "local variable 'a' referenced before assignment",
     "output_type": "error",
     "traceback": [
      "\u001b[0;31m---------------------------------------------------------------------------\u001b[0m",
      "\u001b[0;31mUnboundLocalError\u001b[0m                         Traceback (most recent call last)",
      "\u001b[0;32m<ipython-input-47-8a97c914963e>\u001b[0m in \u001b[0;36m<module>\u001b[0;34m()\u001b[0m\n\u001b[1;32m      8\u001b[0m     \u001b[0mprint\u001b[0m\u001b[0;34m(\u001b[0m\u001b[0;34m\"small \"\u001b[0m \u001b[0;34m+\u001b[0m \u001b[0ma\u001b[0m\u001b[0;34m)\u001b[0m\u001b[0;34m\u001b[0m\u001b[0m\n\u001b[1;32m      9\u001b[0m \u001b[0;34m\u001b[0m\u001b[0m\n\u001b[0;32m---> 10\u001b[0;31m \u001b[0mfunc\u001b[0m\u001b[0;34m(\u001b[0m\u001b[0;34m)\u001b[0m\u001b[0;34m\u001b[0m\u001b[0m\n\u001b[0m",
      "\u001b[0;32m<ipython-input-47-8a97c914963e>\u001b[0m in \u001b[0;36mfunc\u001b[0;34m()\u001b[0m\n\u001b[1;32m      3\u001b[0m \u001b[0;32mdef\u001b[0m \u001b[0mfunc\u001b[0m\u001b[0;34m(\u001b[0m\u001b[0;34m)\u001b[0m\u001b[0;34m:\u001b[0m\u001b[0;34m\u001b[0m\u001b[0m\n\u001b[1;32m      4\u001b[0m     \u001b[0;31m# you cannot use the global 'a' because...\u001b[0m\u001b[0;34m\u001b[0m\u001b[0;34m\u001b[0m\u001b[0m\n\u001b[0;32m----> 5\u001b[0;31m     \u001b[0mprint\u001b[0m\u001b[0;34m(\u001b[0m\u001b[0;34m\"Big \"\u001b[0m \u001b[0;34m+\u001b[0m \u001b[0ma\u001b[0m\u001b[0;34m)\u001b[0m\u001b[0;34m\u001b[0m\u001b[0m\n\u001b[0m\u001b[1;32m      6\u001b[0m     \u001b[0;31m# a local 'a' is eventually defined!\u001b[0m\u001b[0;34m\u001b[0m\u001b[0;34m\u001b[0m\u001b[0m\n\u001b[1;32m      7\u001b[0m     \u001b[0ma\u001b[0m \u001b[0;34m=\u001b[0m \u001b[0;34m\"a\"\u001b[0m\u001b[0;34m\u001b[0m\u001b[0m\n",
      "\u001b[0;31mUnboundLocalError\u001b[0m: local variable 'a' referenced before assignment"
     ]
    }
   ],
   "source": [
    "a = \"A\"\n",
    "\n",
    "def func():\n",
    "    # you cannot use the global 'a' because...\n",
    "    print(\"Big \" + a)\n",
    "    # a local 'a' is eventually defined!\n",
    "    a = \"a\"\n",
    "    print(\"small \" + a)\n",
    "\n",
    "func()"
   ]
  },
  {
   "cell_type": "code",
   "execution_count": null,
   "metadata": {},
   "outputs": [],
   "source": [
    "a = \"A\"\n",
    "\n",
    "def func():\n",
    "    global a\n",
    "    print(\"Big \" + a)\n",
    "    a = \"a\"\n",
    "    print(\"small \" + a)\n",
    "\n",
    "func()\n",
    "print(\"global \" + a)"
   ]
  },
  {
   "cell_type": "code",
   "execution_count": null,
   "metadata": {},
   "outputs": [],
   "source": [
    "# DO NOT RUN THIS\n",
    "#def func():\n",
    "#    func()"
   ]
  },
  {
   "cell_type": "code",
   "execution_count": null,
   "metadata": {},
   "outputs": [],
   "source": [
    "def fib(n):\n",
    "    if n == 0 or n == 1:\n",
    "        return n\n",
    "    else:\n",
    "        return fib(n - 1) + fib(n - 2)"
   ]
  },
  {
   "cell_type": "code",
   "execution_count": null,
   "metadata": {},
   "outputs": [],
   "source": [
    "import sys\n",
    "sys.getrecursionlimit()      # return the current limit\n",
    "sys.setrecursionlimit(8128)  # change the limit to 8128"
   ]
  },
  {
   "cell_type": "code",
   "execution_count": null,
   "metadata": {},
   "outputs": [],
   "source": [
    "# a simple lambda\n",
    "lambda x: x**2"
   ]
  },
  {
   "cell_type": "code",
   "execution_count": null,
   "metadata": {},
   "outputs": [],
   "source": [
    "# a lambda that is called after it is defined\n",
    "(lambda x, y=10: 2*x + y)(42)"
   ]
  },
  {
   "cell_type": "code",
   "execution_count": null,
   "metadata": {},
   "outputs": [],
   "source": [
    "# just because it is anonymous doesn't mean we can't give it a name!\n",
    "f = lambda: [x**2 for x in range(10)]\n",
    "f()"
   ]
  },
  {
   "cell_type": "code",
   "execution_count": null,
   "metadata": {},
   "outputs": [],
   "source": [
    "# a lambda as a dict value\n",
    "d = {'null': lambda *args, **kwargs: None}"
   ]
  },
  {
   "cell_type": "code",
   "execution_count": null,
   "metadata": {},
   "outputs": [],
   "source": [
    "# a lambda as a keyword argument f in another function\n",
    "def func(vals, f=lambda x: sum(x)/len(x)):\n",
    "    f(vals)"
   ]
  },
  {
   "cell_type": "code",
   "execution_count": null,
   "metadata": {},
   "outputs": [],
   "source": [
    "# a lambda as a keyword argument in a function call\n",
    "func([6, 28, 496, 8128], lambda data: sum([x**2 for x in data]))"
   ]
  },
  {
   "cell_type": "code",
   "execution_count": null,
   "metadata": {},
   "outputs": [],
   "source": [
    "nums = [8128, 6, 496, 28]"
   ]
  },
  {
   "cell_type": "code",
   "execution_count": null,
   "metadata": {},
   "outputs": [],
   "source": [
    "sorted(nums)"
   ]
  },
  {
   "cell_type": "code",
   "execution_count": null,
   "metadata": {},
   "outputs": [],
   "source": [
    "sorted(nums, key=lambda x: x%13)"
   ]
  },
  {
   "cell_type": "code",
   "execution_count": null,
   "metadata": {},
   "outputs": [],
   "source": [
    "def countdown():\n",
    "    yield 3\n",
    "    yield 2\n",
    "    yield 1\n",
    "    yield 'Blast off!'"
   ]
  },
  {
   "cell_type": "code",
   "execution_count": null,
   "metadata": {},
   "outputs": [],
   "source": [
    "# generator\n",
    "g = countdown()"
   ]
  },
  {
   "cell_type": "code",
   "execution_count": null,
   "metadata": {},
   "outputs": [],
   "source": [
    "next(g)"
   ]
  },
  {
   "cell_type": "code",
   "execution_count": null,
   "metadata": {},
   "outputs": [],
   "source": [
    "x = next(g)\n",
    "print(x)"
   ]
  },
  {
   "cell_type": "code",
   "execution_count": null,
   "metadata": {},
   "outputs": [],
   "source": [
    "y, z = next(g), next(g)\n",
    "print(z)"
   ]
  },
  {
   "cell_type": "code",
   "execution_count": null,
   "metadata": {},
   "outputs": [],
   "source": [
    "next(g)"
   ]
  },
  {
   "cell_type": "code",
   "execution_count": null,
   "metadata": {},
   "outputs": [],
   "source": [
    "for t in countdown():\n",
    "    if isinstance(t, int):\n",
    "        message = \"T-\" + str(t)\n",
    "    else:\n",
    "        message = t\n",
    "    print(message)"
   ]
  },
  {
   "cell_type": "code",
   "execution_count": null,
   "metadata": {},
   "outputs": [],
   "source": [
    "def square_plus_one(n):\n",
    "    for x in range(n):\n",
    "        x2 = x * x\n",
    "        yield x2 + 1"
   ]
  },
  {
   "cell_type": "code",
   "execution_count": null,
   "metadata": {},
   "outputs": [],
   "source": [
    "for sp1 in square_plus_one(3):\n",
    "    print(sp1)"
   ]
  },
  {
   "cell_type": "code",
   "execution_count": null,
   "metadata": {},
   "outputs": [],
   "source": [
    "# define a subgenerator\n",
    "def yield_all(x):\n",
    "    for i in x:\n",
    "        yield i\n",
    "\n",
    "# palindrome using yield froms\n",
    "def palindromize(x):\n",
    "    yield from yield_all(x)\n",
    "    yield from yield_all(x[::-1])\n",
    "\n",
    "# the above is equivalent to this full expansion:\n",
    "def palindromize_explicit(x):\n",
    "    for i in x:\n",
    "        yield i\n",
    "    for i in x[::-1]:\n",
    "        yield i"
   ]
  },
  {
   "cell_type": "code",
   "execution_count": null,
   "metadata": {},
   "outputs": [],
   "source": [
    "def null(f):\n",
    "    \"\"\"Always return None.\"\"\"\n",
    "    return\n",
    "\n",
    "def identity(f):\n",
    "    \"\"\"Return the function.\"\"\"\n",
    "    return f\n",
    "\n",
    "def self_referential(f):\n",
    "    \"\"\"Return the decorator.\"\"\"\n",
    "    return self_referential"
   ]
  },
  {
   "cell_type": "code",
   "execution_count": null,
   "metadata": {},
   "outputs": [],
   "source": [
    "@null\n",
    "def nargs(*args, **kwargs):\n",
    "    return len(args) + len(kwargs)"
   ]
  },
  {
   "cell_type": "code",
   "execution_count": null,
   "metadata": {},
   "outputs": [],
   "source": [
    "def nargs(*args, **kwargs):\n",
    "    return len(args) + len(kwargs)\n",
    "nargs = null(nargs)"
   ]
  },
  {
   "cell_type": "code",
   "execution_count": null,
   "metadata": {},
   "outputs": [],
   "source": [
    "def plus1(f):\n",
    "    def wrapper(*args, **kwargs):\n",
    "        return f(*args, **kwargs) + 1\n",
    "    return wrapper"
   ]
  },
  {
   "cell_type": "code",
   "execution_count": null,
   "metadata": {},
   "outputs": [],
   "source": [
    "@plus1\n",
    "def power(base, x):\n",
    "    return base**x\n",
    "\n",
    "power(4, 2)"
   ]
  },
  {
   "cell_type": "code",
   "execution_count": null,
   "metadata": {},
   "outputs": [],
   "source": [
    "@plus1\n",
    "@identity\n",
    "@plus1\n",
    "@plus1\n",
    "def root(x):\n",
    "    return x**0.5\n",
    "\n",
    "root(4)"
   ]
  },
  {
   "cell_type": "code",
   "execution_count": null,
   "metadata": {},
   "outputs": [],
   "source": [
    "def plus_n(n):\n",
    "    def dec(f):\n",
    "        def wrapper(*args, **kwargs):\n",
    "            return f(*args, **kwargs) + n\n",
    "        return wrapper\n",
    "    return dec"
   ]
  },
  {
   "cell_type": "code",
   "execution_count": null,
   "metadata": {},
   "outputs": [],
   "source": [
    "@plus_n(6)\n",
    "def root(x):\n",
    "    return x**0.5\n",
    "\n",
    "root(4)"
   ]
  },
  {
   "cell_type": "code",
   "execution_count": null,
   "metadata": {},
   "outputs": [],
   "source": [
    "max = plus1(max)"
   ]
  }
 ],
 "metadata": {
  "kernelspec": {
   "display_name": "Python 3",
   "language": "python",
   "name": "python3"
  },
  "language_info": {
   "codemirror_mode": {
    "name": "ipython",
    "version": 3
   },
   "file_extension": ".py",
   "mimetype": "text/x-python",
   "name": "python",
   "nbconvert_exporter": "python",
   "pygments_lexer": "ipython3",
   "version": "3.5.6"
  }
 },
 "nbformat": 4,
 "nbformat_minor": 1
}
