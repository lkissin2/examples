{
 "cells": [
  {
   "cell_type": "markdown",
   "metadata": {},
   "source": [
    "# Flow Control"
   ]
  },
  {
   "cell_type": "markdown",
   "metadata": {},
   "source": [
    "This chapter is about flow control. Flow control is like arithmetic for computers."
   ]
  },
  {
   "cell_type": "markdown",
   "metadata": {},
   "source": [
    "#Conditionals are the simplest form of flow control. They are like the English sentence, \"If this is true, do a certain thing; Otherwise, do something else.\" First we will meet the shortest conditional, the if statement. If statements have two parts, the condition and the block. When the boolean of the condition is True, the block is executed. If the condition is False, the block is skipped. "
   ]
  },
  {
   "cell_type": "code",
   "execution_count": 25,
   "metadata": {},
   "outputs": [
    {
     "name": "stdout",
     "output_type": "stream",
     "text": [
      "h-bar isn't really unity! Resetting...\n"
     ]
    }
   ],
   "source": [
    "h_bar = 1.0\n",
    "if h_bar == 1.0:\n",
    "    print(\"h-bar isn't really unity! Resetting...\")\n",
    "    h_bar = 1.05457173e-34"
   ]
  },
  {
   "cell_type": "markdown",
   "metadata": {},
   "source": [
    "There are many logical operators available in python. Many are listed in table 4-1. We have already used the equality operator (==), which returns True when both sides of the operator have the same value. There is also the inequality operator (!=), which does the opposite, as seen below:"
   ]
  },
  {
   "cell_type": "code",
   "execution_count": 26,
   "metadata": {},
   "outputs": [
    {
     "name": "stdout",
     "output_type": "stream",
     "text": [
      "correcting h-bar...\n",
      "h_bar = 1.05457173e-34\n"
     ]
    }
   ],
   "source": [
    "h_bar = 1.0\n",
    "if h_bar != 1.05457173e-34:\n",
    "    print('correcting h-bar...')\n",
    "    h_bar = 1.05457173e-34\n",
    "    print('h_bar = {0}'.format(h_bar))"
   ]
  },
  {
   "cell_type": "markdown",
   "metadata": {},
   "source": [
    "Note that whitespace is more important in python than other languages. The block of the if statement must be indented, and to exit that block we stop indenting."
   ]
  },
  {
   "cell_type": "code",
   "execution_count": 27,
   "metadata": {},
   "outputs": [
    {
     "name": "stdout",
     "output_type": "stream",
     "text": [
      "h-bar isn't really unity! Resetting...\n"
     ]
    }
   ],
   "source": [
    "h_bar = 1\n",
    "if h_bar == 1:\n",
    "    print(\"h-bar isn't really unity! Resetting...\")\n",
    "    h_bar = 1.05457173e-34\n",
    "h = h_bar * 2 * 3.14159"
   ]
  },
  {
   "cell_type": "markdown",
   "metadata": {},
   "source": [
    "The following examples emphasize the distinction between the equality operator (==) and the identity operator (is)."
   ]
  },
  {
   "cell_type": "code",
   "execution_count": 28,
   "metadata": {},
   "outputs": [
    {
     "data": {
      "text/plain": [
       "True"
      ]
     },
     "execution_count": 28,
     "metadata": {},
     "output_type": "execute_result"
    }
   ],
   "source": [
    "1 == 1"
   ]
  },
  {
   "cell_type": "code",
   "execution_count": 29,
   "metadata": {},
   "outputs": [
    {
     "data": {
      "text/plain": [
       "True"
      ]
     },
     "execution_count": 29,
     "metadata": {},
     "output_type": "execute_result"
    }
   ],
   "source": [
    "1 == 1.0"
   ]
  },
  {
   "cell_type": "code",
   "execution_count": 30,
   "metadata": {},
   "outputs": [
    {
     "data": {
      "text/plain": [
       "False"
      ]
     },
     "execution_count": 30,
     "metadata": {},
     "output_type": "execute_result"
    }
   ],
   "source": [
    "1 is 1.0"
   ]
  },
  {
   "cell_type": "code",
   "execution_count": 31,
   "metadata": {},
   "outputs": [
    {
     "data": {
      "text/plain": [
       "True"
      ]
     },
     "execution_count": 31,
     "metadata": {},
     "output_type": "execute_result"
    }
   ],
   "source": [
    "1 is 1 # To help with performance, Python only stores a single copy of small integers"
   ]
  },
  {
   "cell_type": "code",
   "execution_count": 32,
   "metadata": {},
   "outputs": [
    {
     "data": {
      "text/plain": [
       "True"
      ]
     },
     "execution_count": 32,
     "metadata": {},
     "output_type": "execute_result"
    }
   ],
   "source": [
    "10**10 == 10**10"
   ]
  },
  {
   "cell_type": "code",
   "execution_count": 33,
   "metadata": {},
   "outputs": [
    {
     "data": {
      "text/plain": [
       "False"
      ]
     },
     "execution_count": 33,
     "metadata": {},
     "output_type": "execute_result"
    }
   ],
   "source": [
    "10**10 is 10**10 # Larger integers are computed each time"
   ]
  },
  {
   "cell_type": "code",
   "execution_count": 34,
   "metadata": {},
   "outputs": [
    {
     "data": {
      "text/plain": [
       "True"
      ]
     },
     "execution_count": 34,
     "metadata": {},
     "output_type": "execute_result"
    }
   ],
   "source": [
    "None is None"
   ]
  },
  {
   "cell_type": "code",
   "execution_count": 35,
   "metadata": {},
   "outputs": [
    {
     "data": {
      "text/plain": [
       "False"
      ]
     },
     "execution_count": 35,
     "metadata": {},
     "output_type": "execute_result"
    }
   ],
   "source": [
    "0 is None # Only None is None"
   ]
  },
  {
   "cell_type": "code",
   "execution_count": 36,
   "metadata": {},
   "outputs": [
    {
     "data": {
      "text/plain": [
       "False"
      ]
     },
     "execution_count": 36,
     "metadata": {},
     "output_type": "execute_result"
    }
   ],
   "source": [
    "0 == None "
   ]
  },
  {
   "cell_type": "markdown",
   "metadata": {},
   "source": [
    "### If-else statements"
   ]
  },
  {
   "cell_type": "markdown",
   "metadata": {},
   "source": [
    "By adding the word else and and else-block, you are telling python what to do when the if-statement is False. A few examples follow:"
   ]
  },
  {
   "cell_type": "code",
   "execution_count": 37,
   "metadata": {},
   "outputs": [
    {
     "data": {
      "text/plain": [
       "0.5944807685248221"
      ]
     },
     "execution_count": 37,
     "metadata": {},
     "output_type": "execute_result"
    }
   ],
   "source": [
    "import math as math #imports the math module so we can use the sine function. See chapter 2 for more on modules\n",
    "\n",
    "x = math.pi / 2 \n",
    "\n",
    "if x == 0:\n",
    "    y = 0\n",
    "else:\n",
    "    y = math.sin(1/x)\n",
    "\n",
    "y"
   ]
  },
  {
   "cell_type": "markdown",
   "metadata": {},
   "source": [
    "$Sin(\\frac{1}{x})$ cannot be easily computed if x = 0, but L'Hopital's rule tells us this function is zero at the origin, so an if statement is helpful in computing $Sin(\\frac{1}{x})$, as shown above and below. The first cell uses the == operator, while the second uses the != operator. Because the if-block and else-block are switched in these two cells, they have the same behavior. However, it is generally best practice to use positive operators than negative ones, as it eases debugging by simplifying the logic."
   ]
  },
  {
   "cell_type": "code",
   "execution_count": 38,
   "metadata": {},
   "outputs": [
    {
     "data": {
      "text/plain": [
       "0.9560556573276295"
      ]
     },
     "execution_count": 38,
     "metadata": {},
     "output_type": "execute_result"
    }
   ],
   "source": [
    "import math as math #imports the math module so we can use the sine function. See chapter 2 for more on modules\n",
    "\n",
    "x = math.pi / 4\n",
    "\n",
    "if x != 0:\n",
    "    y = math.sin(1/x)\n",
    "else:\n",
    "    y = 0\n",
    "\n",
    "y"
   ]
  },
  {
   "cell_type": "markdown",
   "metadata": {},
   "source": [
    "There are also if-elif-else statements. The elif-statement is the similar to the if-statement. Each condition is evaluated in the order they are written, and the first one to return True has its block exectued. The others are skipped. If none of the conditions are True, then the else block is evaluated. Observe:"
   ]
  },
  {
   "cell_type": "code",
   "execution_count": 39,
   "metadata": {},
   "outputs": [
    {
     "data": {
      "text/plain": [
       "1.0"
      ]
     },
     "execution_count": 39,
     "metadata": {},
     "output_type": "execute_result"
    }
   ],
   "source": [
    "omega = 3.6\n",
    "\n",
    "if omega < 1.0:\n",
    "    signal = 0.0\n",
    "elif omega > 10.0:\n",
    "    signal = 0.0\n",
    "else:\n",
    "    signal = 1.0\n",
    "\n",
    "signal"
   ]
  },
  {
   "cell_type": "markdown",
   "metadata": {},
   "source": [
    "if-else statements can be done in one line, which is often convenient."
   ]
  },
  {
   "cell_type": "code",
   "execution_count": 40,
   "metadata": {},
   "outputs": [
    {
     "data": {
      "text/plain": [
       "1.05457173e-34"
      ]
     },
     "execution_count": 40,
     "metadata": {},
     "output_type": "execute_result"
    }
   ],
   "source": [
    "h_bar = 1\n",
    "h_bar = 1.05457173e-34 if h_bar == 1.0 else h_bar\n",
    "h_bar"
   ]
  },
  {
   "cell_type": "markdown",
   "metadata": {},
   "source": [
    "## Exceptions \n",
    "Exceptions help us navigate around errors that otherwise cannot be avoided, such as when the user inputs an impossible value. Consider the following example:"
   ]
  },
  {
   "cell_type": "code",
   "execution_count": 41,
   "metadata": {
    "scrolled": true
   },
   "outputs": [
    {
     "ename": "ZeroDivisionError",
     "evalue": "float division by zero",
     "output_type": "error",
     "traceback": [
      "\u001b[0;31m---------------------------------------------------------------------------\u001b[0m",
      "\u001b[0;31mZeroDivisionError\u001b[0m                         Traceback (most recent call last)",
      "\u001b[0;32m<ipython-input-41-e383f4633e1c>\u001b[0m in \u001b[0;36m<module>\u001b[0;34m()\u001b[0m\n\u001b[1;32m      1\u001b[0m \u001b[0mval\u001b[0m \u001b[0;34m=\u001b[0m \u001b[0;36m0.0\u001b[0m\u001b[0;34m\u001b[0m\u001b[0m\n\u001b[0;32m----> 2\u001b[0;31m \u001b[0;36m1.0\u001b[0m \u001b[0;34m/\u001b[0m \u001b[0mval\u001b[0m\u001b[0;34m\u001b[0m\u001b[0m\n\u001b[0m",
      "\u001b[0;31mZeroDivisionError\u001b[0m: float division by zero"
     ]
    }
   ],
   "source": [
    "val = 0.0\n",
    "1.0 / val "
   ]
  },
  {
   "cell_type": "markdown",
   "metadata": {},
   "source": [
    "This situation can be avoided by adding a try-except block. These blocks look somewhat similar to if-else blocks, but do not contain conditions. First the code that follows Try: is executed. If any error is encountered, the code following Except: is executed. If there are no errors, the Except-block is skipped. It is generally advisable to write short (ideally one-line) Try-blocks. See the following example."
   ]
  },
  {
   "cell_type": "code",
   "execution_count": null,
   "metadata": {},
   "outputs": [],
   "source": [
    "try:\n",
    "    inv = 1.0 / val\n",
    "except: \n",
    "    print(\"A bad value was submitted {0}, please try again\".format(val))"
   ]
  },
  {
   "cell_type": "markdown",
   "metadata": {},
   "source": [
    "We can also put the name of an error after except, allowing for a more specific behavior"
   ]
  },
  {
   "cell_type": "code",
   "execution_count": null,
   "metadata": {},
   "outputs": [],
   "source": [
    "try:\n",
    "    inv = 1.0 / val\n",
    "except ZeroDivisionError: \n",
    "    print(\"A zero value was submitted, please try again\")"
   ]
  },
  {
   "cell_type": "markdown",
   "metadata": {},
   "source": [
    "There is also the option to put multiple Except blocks, similar to elif. The first exception encountered will be executed."
   ]
  },
  {
   "cell_type": "code",
   "execution_count": null,
   "metadata": {},
   "outputs": [],
   "source": [
    "try:\n",
    "    inv = 1.0 / val\n",
    "except ZeroDivisionError: \n",
    "    print(\"A zero value was submitted, please try again\")\n",
    "except: \n",
    "    print(\"A bad value was submitted {0}, please try again\".format(val))"
   ]
  },
  {
   "cell_type": "markdown",
   "metadata": {},
   "source": [
    "We can also use the raise keyword, which throws an exception that may be caught by a try-except block later on. The raise keyword standardizes the code's response to an unallowed situation. Typically they are placed inside conditionals so they are not run unnecessarily."
   ]
  },
  {
   "cell_type": "code",
   "execution_count": null,
   "metadata": {},
   "outputs": [],
   "source": [
    "if val == 0.0:\n",
    "    raise ZeroDivisionError\n",
    "inv = 1.0 / val"
   ]
  },
  {
   "cell_type": "code",
   "execution_count": null,
   "metadata": {},
   "outputs": [],
   "source": [
    "if val == 0.0:\n",
    "    raise ZeroDivisionError(\"taking the inverse of zero is forbidden!\")\n",
    "inv = 1.0 / val"
   ]
  },
  {
   "cell_type": "markdown",
   "metadata": {},
   "source": [
    "## Loops"
   ]
  },
  {
   "cell_type": "markdown",
   "metadata": {},
   "source": [
    "Loops allow the computer to repeat a task. We will discuss while loops, for loops, and comprehensions."
   ]
  },
  {
   "cell_type": "markdown",
   "metadata": {},
   "source": [
    "### While loops"
   ]
  },
  {
   "cell_type": "markdown",
   "metadata": {},
   "source": [
    "The first loop discussed is the while loop. In this loop, a condition is provided. If the condition met is true, the code block will be executed. When the execution is complete, the condition is evaluated again, and the code is re-executed until the condition is no longer true. Observe:"
   ]
  },
  {
   "cell_type": "code",
   "execution_count": null,
   "metadata": {},
   "outputs": [],
   "source": [
    "t = 3\n",
    "while 0 < t:\n",
    "    print(\"t-minus \" + str(t))\n",
    "    t = t - 1\n",
    "print(\"blastoff!\")"
   ]
  },
  {
   "cell_type": "markdown",
   "metadata": {},
   "source": [
    "If the condition is false, the block will never run"
   ]
  },
  {
   "cell_type": "code",
   "execution_count": null,
   "metadata": {},
   "outputs": [],
   "source": [
    "while False:\n",
    "    print(\"I am sorry, Dave.\")\n",
    "print(\"I can't print that for you.\")"
   ]
  },
  {
   "cell_type": "markdown",
   "metadata": {},
   "source": [
    "If the condition is never false, the loop never stops. This behavior is almost never desired. Such a loop is called an infinite or nonterminating loop. Observe what happens when the countdown loop from before is modified slightly:"
   ]
  },
  {
   "cell_type": "code",
   "execution_count": null,
   "metadata": {},
   "outputs": [],
   "source": [
    "# Uncomment the following to print forever\n",
    "#t = 3\n",
    "#while True:\n",
    "#    print(\"t-minus \" + str(t))\n",
    "#    t = t - 1\n",
    "#print(\"blastoff!\")"
   ]
  },
  {
   "cell_type": "code",
   "execution_count": null,
   "metadata": {},
   "outputs": [],
   "source": [
    "# Uncomment the following to print forever a different way\n",
    "# t = 3\n",
    "# while t == 3:\n",
    "#    print(\"t-minus \" + str(t))\n",
    "# print(\"blastoff!\")"
   ]
  },
  {
   "cell_type": "markdown",
   "metadata": {},
   "source": [
    "If you ever accidentally write a nonterminating loop, hit ctrl-c in your terminal to stop it."
   ]
  },
  {
   "cell_type": "markdown",
   "metadata": {},
   "source": [
    "The break statement is used to interrupt a loop. Observe:"
   ]
  },
  {
   "cell_type": "code",
   "execution_count": 44,
   "metadata": {},
   "outputs": [
    {
     "data": {
      "text/plain": [
       "[1, 1, 2, 3, 5, 8, 13, 21, 34, 55, 89]"
      ]
     },
     "execution_count": 44,
     "metadata": {},
     "output_type": "execute_result"
    }
   ],
   "source": [
    "fib = [1, 1]\n",
    "\n",
    "while True:\n",
    "    x = fib[-2] + fib[-1]\n",
    "    if x % 12 == 0:\n",
    "        break\n",
    "    fib.append(x)\n",
    "\n",
    "fib"
   ]
  },
  {
   "cell_type": "markdown",
   "metadata": {},
   "source": [
    "### For Loops"
   ]
  },
  {
   "cell_type": "markdown",
   "metadata": {},
   "source": [
    "An alternative to while loops is the for loop, which evaluates an expression while iterating through a containter. Consider the following example, in which a short list is used as an iterable:"
   ]
  },
  {
   "cell_type": "code",
   "execution_count": 47,
   "metadata": {},
   "outputs": [
    {
     "name": "stdout",
     "output_type": "stream",
     "text": [
      "t-minus 3\n",
      "t-minus 2\n",
      "t-minus 1\n",
      "blastoff!\n"
     ]
    }
   ],
   "source": [
    "for t in [3, 2, 1]:\n",
    "    print(\"t-minus \" + str(t))\n",
    "print(\"blastoff!\")"
   ]
  },
  {
   "cell_type": "markdown",
   "metadata": {},
   "source": [
    "The break statement works just the same in a for loop as in a while loop. Additionally, the continue statement may be used to skip over one interation of the loop and continue with the next. Continue may also be used in a while loop. The following code uses Continue to only print the odd numbers in a list."
   ]
  },
  {
   "cell_type": "code",
   "execution_count": 49,
   "metadata": {},
   "outputs": [
    {
     "name": "stdout",
     "output_type": "stream",
     "text": [
      "t-minus 7\n",
      "t-minus 5\n",
      "t-minus 3\n",
      "t-minus 1\n",
      "blastoff!\n"
     ]
    }
   ],
   "source": [
    "for t in [7, 6, 5, 4, 3, 2, 1]:\n",
    "    if t%2 == 0:\n",
    "        continue\n",
    "    print(\"t-minus \" + str(t))\n",
    "print(\"blastoff!\")"
   ]
  },
  {
   "cell_type": "code",
   "execution_count": 54,
   "metadata": {},
   "outputs": [
    {
     "name": "stdout",
     "output_type": "stream",
     "text": [
      "G\n",
      "o\n",
      "r\n",
      "g\n",
      "u\n",
      "s\n"
     ]
    }
   ],
   "source": [
    "for letter in \"Gorgus\":\n",
    "    print(letter)"
   ]
  },
  {
   "cell_type": "markdown",
   "metadata": {},
   "source": [
    "Unordered data containers like dicts and sets can be troublesome as iterators because their order is unpredictable. Observe: "
   ]
  },
  {
   "cell_type": "code",
   "execution_count": 56,
   "metadata": {},
   "outputs": [
    {
     "name": "stdout",
     "output_type": "stream",
     "text": [
      "0\n",
      "True\n",
      "Gorgus\n"
     ]
    }
   ],
   "source": [
    "for x in {\"Gorgus\", 0, True}:\n",
    "    print(x)"
   ]
  },
  {
   "cell_type": "markdown",
   "metadata": {},
   "source": [
    "The next cell demonstrates the use of a dictionary as an iterable. Python assumes that the key is what is being iterated. Each item in the dict can be listed with code like the following:"
   ]
  },
  {
   "cell_type": "code",
   "execution_count": 58,
   "metadata": {},
   "outputs": [
    {
     "name": "stdout",
     "output_type": "stream",
     "text": [
      "first\n",
      "Albert\n",
      "======\n",
      "last\n",
      "Einstein\n",
      "======\n",
      "birthday\n",
      "[1879, 3, 14]\n",
      "======\n"
     ]
    }
   ],
   "source": [
    "d = {\"first\": \"Albert\", \n",
    "     \"last\": \"Einstein\", \n",
    "     \"birthday\": [1879, 3, 14]}\n",
    "\n",
    "for key in d:\n",
    "    print(key)\n",
    "    print(d[key])\n",
    "    print(\"======\")"
   ]
  },
  {
   "cell_type": "markdown",
   "metadata": {},
   "source": [
    "Dictionaries may also be explicitly looped through their keys, values, or items using the keys() , values() , or items() methods:"
   ]
  },
  {
   "cell_type": "code",
   "execution_count": 60,
   "metadata": {},
   "outputs": [
    {
     "name": "stdout",
     "output_type": "stream",
     "text": [
      "Keys:\n",
      "first\n",
      "last\n",
      "birthday\n",
      "\n",
      "======\n",
      "\n",
      "Values:\n",
      "Albert\n",
      "Einstein\n",
      "[1879, 3, 14]\n",
      "\n",
      "======\n",
      "\n",
      "Items:\n",
      "first Albert\n",
      "last Einstein\n",
      "birthday [1879, 3, 14]\n"
     ]
    }
   ],
   "source": [
    "d = {\"first\": \"Albert\", \n",
    "     \"last\": \"Einstein\", \n",
    "     \"birthday\": [1879, 3, 14]}\n",
    "\n",
    "print(\"Keys:\")\n",
    "for key in d.keys():\n",
    "    print(key)\n",
    "\n",
    "print(\"\\n======\\n\")\n",
    "\n",
    "print(\"Values:\")\n",
    "for value in d.values():\n",
    "    print(value)\n",
    "\n",
    "print(\"\\n======\\n\")\n",
    "\n",
    "print(\"Items:\")\n",
    "for key, value in d.items():\n",
    "    print(key, value)"
   ]
  },
  {
   "cell_type": "markdown",
   "metadata": {},
   "source": [
    "Notice that the items are tuples. We have chosen to explicitly unpack them in the preceding code, but this is not necessary. See below:"
   ]
  },
  {
   "cell_type": "code",
   "execution_count": 63,
   "metadata": {},
   "outputs": [
    {
     "name": "stdout",
     "output_type": "stream",
     "text": [
      "('first', 'Albert')\n",
      "('last', 'Einstein')\n",
      "('birthday', [1879, 3, 14])\n"
     ]
    }
   ],
   "source": [
    "for item in d.items():\n",
    "    print(item)"
   ]
  },
  {
   "cell_type": "markdown",
   "metadata": {},
   "source": [
    "### Comprehension"
   ]
  },
  {
   "cell_type": "markdown",
   "metadata": {},
   "source": [
    "Comprehension allow us to run simple for loops in a single line. The following two cells are a verbose way of printing the elements in a set. The same output can be produced from a single line using a comprehension."
   ]
  },
  {
   "cell_type": "code",
   "execution_count": 62,
   "metadata": {},
   "outputs": [
    {
     "name": "stdout",
     "output_type": "stream",
     "text": [
      "charm\n",
      "top\n",
      "down\n",
      "up\n",
      "bottom\n",
      "strange\n"
     ]
    }
   ],
   "source": [
    "quarks = {'up', 'down', 'top', 'bottom', 'charm', 'strange'}\n",
    "for quark in quarks:\n",
    "    print(quark)"
   ]
  },
  {
   "cell_type": "code",
   "execution_count": 69,
   "metadata": {},
   "outputs": [
    {
     "name": "stdout",
     "output_type": "stream",
     "text": [
      "['CHARM', 'TOP', 'STRANGE']\n"
     ]
    }
   ],
   "source": [
    "upper_quarks = []\n",
    "for quark in quarks:\n",
    "    upper_quarks.append(quark.upper())\n",
    "\n",
    "print(upper_quarks)"
   ]
  },
  {
   "cell_type": "markdown",
   "metadata": {},
   "source": [
    "Here comes a comprehension that does the same thing as the previous for loop with $\\frac{1}{3}$ the number of lines:"
   ]
  },
  {
   "cell_type": "code",
   "execution_count": 71,
   "metadata": {},
   "outputs": [
    {
     "data": {
      "text/plain": [
       "['CHARM', 'TOP', 'STRANGE']"
      ]
     },
     "execution_count": 71,
     "metadata": {},
     "output_type": "execute_result"
    }
   ],
   "source": [
    "upper_quarks = [quark.upper() for quark in quarks]\n",
    "upper_quarks"
   ]
  },
  {
   "cell_type": "markdown",
   "metadata": {},
   "source": [
    "A comprehension can also be used to output a set. The following cell uses a set to ignore misspellings of repeated words:"
   ]
  },
  {
   "cell_type": "code",
   "execution_count": 76,
   "metadata": {},
   "outputs": [
    {
     "data": {
      "text/plain": [
       "{'charm', 'strange', 'top'}"
      ]
     },
     "execution_count": 76,
     "metadata": {},
     "output_type": "execute_result"
    }
   ],
   "source": [
    "entries = ['top', 'CHARm', 'Top', 'sTraNGe', 'strangE', 'top']\n",
    "quarks = {quark.lower() for quark in entries}\n",
    "quarks"
   ]
  },
  {
   "cell_type": "raw",
   "metadata": {},
   "source": [
    "Here comes a cell that shows us how to make a dictionary with the inputs and outputs as keys and values. This kind of comprehension is ideal for iterating through a list while maintaining a mapping between the inputs and outputs."
   ]
  },
  {
   "cell_type": "code",
   "execution_count": 77,
   "metadata": {},
   "outputs": [
    {
     "data": {
      "text/plain": [
       "{1: 43, 10: 142, 12.5: 198.25, 65: 4267, 88: 7786}"
      ]
     },
     "execution_count": 77,
     "metadata": {},
     "output_type": "execute_result"
    }
   ],
   "source": [
    "entries = [1, 10, 12.5, 65, 88]\n",
    "results = {x: x**2 + 42 for x in entries}\n",
    "results"
   ]
  },
  {
   "cell_type": "markdown",
   "metadata": {},
   "source": [
    "Comprehensions may also use filters, which allow us to supply a condition such that the loop will evaluate its block if the condition is True, and skip and iterations for which the condition is False. Filters use the if keyword. The following cell uses this syntax to fins the squares of fibonacci numbers that are divisible by 5:"
   ]
  },
  {
   "cell_type": "code",
   "execution_count": 82,
   "metadata": {},
   "outputs": [
    {
     "data": {
      "text/plain": [
       "{25, 3025}"
      ]
     },
     "execution_count": 82,
     "metadata": {},
     "output_type": "execute_result"
    }
   ],
   "source": [
    "{x**2 for x in fib if x%5 == 0}"
   ]
  },
  {
   "cell_type": "markdown",
   "metadata": {},
   "source": [
    "A filtered comprehension may also be used to create a new dictionary that is a subset of a larger dictionary:"
   ]
  },
  {
   "cell_type": "code",
   "execution_count": 83,
   "metadata": {},
   "outputs": [
    {
     "data": {
      "text/plain": [
       "{'phi': 3, 'r': 1, 'theta': 2}"
      ]
     },
     "execution_count": 83,
     "metadata": {},
     "output_type": "execute_result"
    }
   ],
   "source": [
    "coords = {'x': 1, 'y': 2, 'z': 3, 'r': 1, 'theta': 2, 'phi': 3}\n",
    "polar_keys = {'r', 'theta', 'phi'}\n",
    "polar = {key: value for key, value in coords.items() if key in polar_keys}\n",
    "polar"
   ]
  }
 ],
 "metadata": {
  "kernelspec": {
   "display_name": "Python 3",
   "language": "python",
   "name": "python3"
  }
 },
 "nbformat": 4,
 "nbformat_minor": 1
}
